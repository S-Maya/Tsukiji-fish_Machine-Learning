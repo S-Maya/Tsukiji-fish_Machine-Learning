{
 "cells": [
  {
   "cell_type": "code",
   "execution_count": 11,
   "metadata": {},
   "outputs": [],
   "source": [
    "import os\n",
    "import csv\n",
    "import pandas as pd\n",
    "from sklearn.metrics import mean_squared_error\n",
    "from sklearn.ensemble import GradientBoostingRegressor\n",
    "from joblib import dump\n",
    "from joblib import load"
   ]
  },
  {
   "cell_type": "code",
   "execution_count": 15,
   "metadata": {},
   "outputs": [],
   "source": [
    "csv_path = os.path.join(\"../fish_participant.csv\")\n",
    "train_df = pd.read_csv(csv_path)\n",
    "validation_data_path = os.path.join(\"../fish_holdout_demo.csv\")\n",
    "test_df = pd.read_csv(validation_data_path)"
   ]
  },
  {
   "cell_type": "code",
   "execution_count": 24,
   "metadata": {},
   "outputs": [],
   "source": [
    "X = train_df[[\"Height\", \"Width\", \"Length3\", \"Length2\"]].values\n",
    "y = train_df[\"Weight\"].values\n",
    "\n",
    "gbr = GradientBoostingRegressor(n_estimators=100, max_depth=6, learning_rate=0.1, loss='ls')\n",
    "\n",
    "X_test = test_df[[\"Height\", \"Width\", \"Length3\", \"Length2\"]].values\n",
    "y_test = test_df[\"Weight\"].values\n",
    "\n",
    "mean_error = mean_squared_error(y_test, est.predict(X_test))"
   ]
  },
  {
   "cell_type": "code",
   "execution_count": 25,
   "metadata": {},
   "outputs": [
    {
     "name": "stdout",
     "output_type": "stream",
     "text": [
      "0.00010726741989774972\n"
     ]
    }
   ],
   "source": [
    "print(mean_error)"
   ]
  },
  {
   "cell_type": "code",
   "execution_count": null,
   "metadata": {},
   "outputs": [],
   "source": []
  },
  {
   "cell_type": "code",
   "execution_count": null,
   "metadata": {},
   "outputs": [],
   "source": []
  }
 ],
 "metadata": {
  "kernelspec": {
   "display_name": "Python 3.8.0 64-bit",
   "language": "python",
   "name": "python38064bit9f9b16d984dc433badff5d8448edef5b"
  },
  "language_info": {
   "codemirror_mode": {
    "name": "ipython",
    "version": 3
   },
   "file_extension": ".py",
   "mimetype": "text/x-python",
   "name": "python",
   "nbconvert_exporter": "python",
   "pygments_lexer": "ipython3",
   "version": "3.8.0"
  }
 },
 "nbformat": 4,
 "nbformat_minor": 4
}
